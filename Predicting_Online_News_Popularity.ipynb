{
  "nbformat": 4,
  "nbformat_minor": 0,
  "metadata": {
    "accelerator": "GPU",
    "colab": {
      "name": "CSE557_Term_Project_Ercan_Selin_Çiğsem_195008003040.ipynb",
      "provenance": [],
      "collapsed_sections": [],
      "toc_visible": true,
      "include_colab_link": true
    },
    "kernelspec": {
      "display_name": "Python 3",
      "language": "python",
      "name": "python3"
    },
    "language_info": {
      "codemirror_mode": {
        "name": "ipython",
        "version": 3
      },
      "file_extension": ".py",
      "mimetype": "text/x-python",
      "name": "python",
      "nbconvert_exporter": "python",
      "pygments_lexer": "ipython3",
      "version": "3.8.5"
    }
  },
  "cells": [
    {
      "cell_type": "markdown",
      "metadata": {
        "id": "view-in-github",
        "colab_type": "text"
      },
      "source": [
        "<a href=\"https://colab.research.google.com/github/SelinErcan/DataMining/blob/main/Predicting_Online_News_Popularity.ipynb\" target=\"_parent\"><img src=\"https://colab.research.google.com/assets/colab-badge.svg\" alt=\"Open In Colab\"/></a>"
      ]
    },
    {
      "cell_type": "markdown",
      "metadata": {
        "id": "gVO3vbVHPo7r"
      },
      "source": [
        "# Predicting Online News Popularity"
      ]
    },
    {
      "cell_type": "code",
      "metadata": {
        "id": "2jbS24qHPo7t"
      },
      "source": [
        "import pandas as pd\n",
        "import numpy as np\n",
        "import matplotlib.pyplot as plt\n",
        "from sklearn.model_selection import GridSearchCV\n",
        "from sklearn.ensemble import AdaBoostClassifier\n",
        "from sklearn.tree import DecisionTreeClassifier\n",
        "from sklearn.ensemble import RandomForestClassifier\n",
        "from sklearn.linear_model import Perceptron\n",
        "from sklearn import preprocessing\n",
        "from sklearn.neighbors import KNeighborsClassifier\n",
        "from sklearn.naive_bayes import GaussianNB\n",
        "from sklearn.model_selection import train_test_split\n",
        "from sklearn import model_selection\n",
        "from sklearn.metrics import accuracy_score, average_precision_score,f1_score\n",
        "from sklearn.metrics import precision_score, recall_score, roc_auc_score, roc_auc_score, roc_curve\n",
        "from sklearn import metrics\n",
        "import time\n",
        "\n",
        "from random import seed\n",
        "from random import randrange\n",
        "from csv import reader\n",
        "%matplotlib inline"
      ],
      "execution_count": null,
      "outputs": []
    },
    {
      "cell_type": "markdown",
      "metadata": {
        "id": "sw3061FZPo8G"
      },
      "source": [
        "## Load Dataset"
      ]
    },
    {
      "cell_type": "code",
      "metadata": {
        "id": "mFkwxOE2Po8I",
        "scrolled": true
      },
      "source": [
        "csv_filename=\"OnlineNewsPopularity.csv\"\n",
        "\n",
        "df=pd.read_csv(csv_filename)\n",
        "df=df[df.columns]"
      ],
      "execution_count": null,
      "outputs": []
    },
    {
      "cell_type": "code",
      "metadata": {
        "colab": {
          "base_uri": "https://localhost:8080/",
          "height": 570
        },
        "id": "BMK0aQxxkGx5",
        "outputId": "88915f79-95af-4382-b8ea-6ade94e07f27"
      },
      "source": [
        "df.head(10)"
      ],
      "execution_count": null,
      "outputs": [
        {
          "output_type": "execute_result",
          "data": {
            "text/html": [
              "<div>\n",
              "<style scoped>\n",
              "    .dataframe tbody tr th:only-of-type {\n",
              "        vertical-align: middle;\n",
              "    }\n",
              "\n",
              "    .dataframe tbody tr th {\n",
              "        vertical-align: top;\n",
              "    }\n",
              "\n",
              "    .dataframe thead th {\n",
              "        text-align: right;\n",
              "    }\n",
              "</style>\n",
              "<table border=\"1\" class=\"dataframe\">\n",
              "  <thead>\n",
              "    <tr style=\"text-align: right;\">\n",
              "      <th></th>\n",
              "      <th>url</th>\n",
              "      <th>timedelta</th>\n",
              "      <th>n_tokens_title</th>\n",
              "      <th>n_tokens_content</th>\n",
              "      <th>n_unique_tokens</th>\n",
              "      <th>n_non_stop_words</th>\n",
              "      <th>n_non_stop_unique_tokens</th>\n",
              "      <th>num_hrefs</th>\n",
              "      <th>num_self_hrefs</th>\n",
              "      <th>num_imgs</th>\n",
              "      <th>...</th>\n",
              "      <th>min_positive_polarity</th>\n",
              "      <th>max_positive_polarity</th>\n",
              "      <th>avg_negative_polarity</th>\n",
              "      <th>min_negative_polarity</th>\n",
              "      <th>max_negative_polarity</th>\n",
              "      <th>title_subjectivity</th>\n",
              "      <th>title_sentiment_polarity</th>\n",
              "      <th>abs_title_subjectivity</th>\n",
              "      <th>abs_title_sentiment_polarity</th>\n",
              "      <th>shares</th>\n",
              "    </tr>\n",
              "  </thead>\n",
              "  <tbody>\n",
              "    <tr>\n",
              "      <th>0</th>\n",
              "      <td>http://mashable.com/2013/01/07/amazon-instant-...</td>\n",
              "      <td>731</td>\n",
              "      <td>12</td>\n",
              "      <td>219</td>\n",
              "      <td>0.663594</td>\n",
              "      <td>1.0</td>\n",
              "      <td>0.815385</td>\n",
              "      <td>4</td>\n",
              "      <td>2</td>\n",
              "      <td>1</td>\n",
              "      <td>...</td>\n",
              "      <td>0.100000</td>\n",
              "      <td>0.7</td>\n",
              "      <td>-0.350000</td>\n",
              "      <td>-0.600</td>\n",
              "      <td>-0.200000</td>\n",
              "      <td>0.500000</td>\n",
              "      <td>-0.187500</td>\n",
              "      <td>0.000000</td>\n",
              "      <td>0.187500</td>\n",
              "      <td>593</td>\n",
              "    </tr>\n",
              "    <tr>\n",
              "      <th>1</th>\n",
              "      <td>http://mashable.com/2013/01/07/ap-samsung-spon...</td>\n",
              "      <td>731</td>\n",
              "      <td>9</td>\n",
              "      <td>255</td>\n",
              "      <td>0.604743</td>\n",
              "      <td>1.0</td>\n",
              "      <td>0.791946</td>\n",
              "      <td>3</td>\n",
              "      <td>1</td>\n",
              "      <td>1</td>\n",
              "      <td>...</td>\n",
              "      <td>0.033333</td>\n",
              "      <td>0.7</td>\n",
              "      <td>-0.118750</td>\n",
              "      <td>-0.125</td>\n",
              "      <td>-0.100000</td>\n",
              "      <td>0.000000</td>\n",
              "      <td>0.000000</td>\n",
              "      <td>0.500000</td>\n",
              "      <td>0.000000</td>\n",
              "      <td>711</td>\n",
              "    </tr>\n",
              "    <tr>\n",
              "      <th>2</th>\n",
              "      <td>http://mashable.com/2013/01/07/apple-40-billio...</td>\n",
              "      <td>731</td>\n",
              "      <td>9</td>\n",
              "      <td>211</td>\n",
              "      <td>0.575130</td>\n",
              "      <td>1.0</td>\n",
              "      <td>0.663866</td>\n",
              "      <td>3</td>\n",
              "      <td>1</td>\n",
              "      <td>1</td>\n",
              "      <td>...</td>\n",
              "      <td>0.100000</td>\n",
              "      <td>1.0</td>\n",
              "      <td>-0.466667</td>\n",
              "      <td>-0.800</td>\n",
              "      <td>-0.133333</td>\n",
              "      <td>0.000000</td>\n",
              "      <td>0.000000</td>\n",
              "      <td>0.500000</td>\n",
              "      <td>0.000000</td>\n",
              "      <td>1500</td>\n",
              "    </tr>\n",
              "    <tr>\n",
              "      <th>3</th>\n",
              "      <td>http://mashable.com/2013/01/07/astronaut-notre...</td>\n",
              "      <td>731</td>\n",
              "      <td>9</td>\n",
              "      <td>531</td>\n",
              "      <td>0.503788</td>\n",
              "      <td>1.0</td>\n",
              "      <td>0.665635</td>\n",
              "      <td>9</td>\n",
              "      <td>0</td>\n",
              "      <td>1</td>\n",
              "      <td>...</td>\n",
              "      <td>0.136364</td>\n",
              "      <td>0.8</td>\n",
              "      <td>-0.369697</td>\n",
              "      <td>-0.600</td>\n",
              "      <td>-0.166667</td>\n",
              "      <td>0.000000</td>\n",
              "      <td>0.000000</td>\n",
              "      <td>0.500000</td>\n",
              "      <td>0.000000</td>\n",
              "      <td>1200</td>\n",
              "    </tr>\n",
              "    <tr>\n",
              "      <th>4</th>\n",
              "      <td>http://mashable.com/2013/01/07/att-u-verse-apps/</td>\n",
              "      <td>731</td>\n",
              "      <td>13</td>\n",
              "      <td>1072</td>\n",
              "      <td>0.415646</td>\n",
              "      <td>1.0</td>\n",
              "      <td>0.540890</td>\n",
              "      <td>19</td>\n",
              "      <td>19</td>\n",
              "      <td>20</td>\n",
              "      <td>...</td>\n",
              "      <td>0.033333</td>\n",
              "      <td>1.0</td>\n",
              "      <td>-0.220192</td>\n",
              "      <td>-0.500</td>\n",
              "      <td>-0.050000</td>\n",
              "      <td>0.454545</td>\n",
              "      <td>0.136364</td>\n",
              "      <td>0.045455</td>\n",
              "      <td>0.136364</td>\n",
              "      <td>505</td>\n",
              "    </tr>\n",
              "    <tr>\n",
              "      <th>5</th>\n",
              "      <td>http://mashable.com/2013/01/07/beewi-smart-toys/</td>\n",
              "      <td>731</td>\n",
              "      <td>10</td>\n",
              "      <td>370</td>\n",
              "      <td>0.559889</td>\n",
              "      <td>1.0</td>\n",
              "      <td>0.698198</td>\n",
              "      <td>2</td>\n",
              "      <td>2</td>\n",
              "      <td>0</td>\n",
              "      <td>...</td>\n",
              "      <td>0.136364</td>\n",
              "      <td>0.6</td>\n",
              "      <td>-0.195000</td>\n",
              "      <td>-0.400</td>\n",
              "      <td>-0.100000</td>\n",
              "      <td>0.642857</td>\n",
              "      <td>0.214286</td>\n",
              "      <td>0.142857</td>\n",
              "      <td>0.214286</td>\n",
              "      <td>855</td>\n",
              "    </tr>\n",
              "    <tr>\n",
              "      <th>6</th>\n",
              "      <td>http://mashable.com/2013/01/07/bodymedia-armba...</td>\n",
              "      <td>731</td>\n",
              "      <td>8</td>\n",
              "      <td>960</td>\n",
              "      <td>0.418163</td>\n",
              "      <td>1.0</td>\n",
              "      <td>0.549834</td>\n",
              "      <td>21</td>\n",
              "      <td>20</td>\n",
              "      <td>20</td>\n",
              "      <td>...</td>\n",
              "      <td>0.100000</td>\n",
              "      <td>1.0</td>\n",
              "      <td>-0.224479</td>\n",
              "      <td>-0.500</td>\n",
              "      <td>-0.050000</td>\n",
              "      <td>0.000000</td>\n",
              "      <td>0.000000</td>\n",
              "      <td>0.500000</td>\n",
              "      <td>0.000000</td>\n",
              "      <td>556</td>\n",
              "    </tr>\n",
              "    <tr>\n",
              "      <th>7</th>\n",
              "      <td>http://mashable.com/2013/01/07/canon-poweshot-n/</td>\n",
              "      <td>731</td>\n",
              "      <td>12</td>\n",
              "      <td>989</td>\n",
              "      <td>0.433574</td>\n",
              "      <td>1.0</td>\n",
              "      <td>0.572108</td>\n",
              "      <td>20</td>\n",
              "      <td>20</td>\n",
              "      <td>20</td>\n",
              "      <td>...</td>\n",
              "      <td>0.100000</td>\n",
              "      <td>1.0</td>\n",
              "      <td>-0.242778</td>\n",
              "      <td>-0.500</td>\n",
              "      <td>-0.050000</td>\n",
              "      <td>1.000000</td>\n",
              "      <td>0.500000</td>\n",
              "      <td>0.500000</td>\n",
              "      <td>0.500000</td>\n",
              "      <td>891</td>\n",
              "    </tr>\n",
              "    <tr>\n",
              "      <th>8</th>\n",
              "      <td>http://mashable.com/2013/01/07/car-of-the-futu...</td>\n",
              "      <td>731</td>\n",
              "      <td>11</td>\n",
              "      <td>97</td>\n",
              "      <td>0.670103</td>\n",
              "      <td>1.0</td>\n",
              "      <td>0.836735</td>\n",
              "      <td>2</td>\n",
              "      <td>0</td>\n",
              "      <td>0</td>\n",
              "      <td>...</td>\n",
              "      <td>0.400000</td>\n",
              "      <td>0.8</td>\n",
              "      <td>-0.125000</td>\n",
              "      <td>-0.125</td>\n",
              "      <td>-0.125000</td>\n",
              "      <td>0.125000</td>\n",
              "      <td>0.000000</td>\n",
              "      <td>0.375000</td>\n",
              "      <td>0.000000</td>\n",
              "      <td>3600</td>\n",
              "    </tr>\n",
              "    <tr>\n",
              "      <th>9</th>\n",
              "      <td>http://mashable.com/2013/01/07/chuck-hagel-web...</td>\n",
              "      <td>731</td>\n",
              "      <td>10</td>\n",
              "      <td>231</td>\n",
              "      <td>0.636364</td>\n",
              "      <td>1.0</td>\n",
              "      <td>0.797101</td>\n",
              "      <td>4</td>\n",
              "      <td>1</td>\n",
              "      <td>1</td>\n",
              "      <td>...</td>\n",
              "      <td>0.100000</td>\n",
              "      <td>0.5</td>\n",
              "      <td>-0.238095</td>\n",
              "      <td>-0.500</td>\n",
              "      <td>-0.100000</td>\n",
              "      <td>0.000000</td>\n",
              "      <td>0.000000</td>\n",
              "      <td>0.500000</td>\n",
              "      <td>0.000000</td>\n",
              "      <td>710</td>\n",
              "    </tr>\n",
              "  </tbody>\n",
              "</table>\n",
              "<p>10 rows × 61 columns</p>\n",
              "</div>"
            ],
            "text/plain": [
              "                                                 url  timedelta  \\\n",
              "0  http://mashable.com/2013/01/07/amazon-instant-...        731   \n",
              "1  http://mashable.com/2013/01/07/ap-samsung-spon...        731   \n",
              "2  http://mashable.com/2013/01/07/apple-40-billio...        731   \n",
              "3  http://mashable.com/2013/01/07/astronaut-notre...        731   \n",
              "4   http://mashable.com/2013/01/07/att-u-verse-apps/        731   \n",
              "5   http://mashable.com/2013/01/07/beewi-smart-toys/        731   \n",
              "6  http://mashable.com/2013/01/07/bodymedia-armba...        731   \n",
              "7   http://mashable.com/2013/01/07/canon-poweshot-n/        731   \n",
              "8  http://mashable.com/2013/01/07/car-of-the-futu...        731   \n",
              "9  http://mashable.com/2013/01/07/chuck-hagel-web...        731   \n",
              "\n",
              "   n_tokens_title  n_tokens_content  n_unique_tokens  n_non_stop_words  \\\n",
              "0              12               219         0.663594               1.0   \n",
              "1               9               255         0.604743               1.0   \n",
              "2               9               211         0.575130               1.0   \n",
              "3               9               531         0.503788               1.0   \n",
              "4              13              1072         0.415646               1.0   \n",
              "5              10               370         0.559889               1.0   \n",
              "6               8               960         0.418163               1.0   \n",
              "7              12               989         0.433574               1.0   \n",
              "8              11                97         0.670103               1.0   \n",
              "9              10               231         0.636364               1.0   \n",
              "\n",
              "   n_non_stop_unique_tokens  num_hrefs  num_self_hrefs  num_imgs  ...  \\\n",
              "0                  0.815385          4               2         1  ...   \n",
              "1                  0.791946          3               1         1  ...   \n",
              "2                  0.663866          3               1         1  ...   \n",
              "3                  0.665635          9               0         1  ...   \n",
              "4                  0.540890         19              19        20  ...   \n",
              "5                  0.698198          2               2         0  ...   \n",
              "6                  0.549834         21              20        20  ...   \n",
              "7                  0.572108         20              20        20  ...   \n",
              "8                  0.836735          2               0         0  ...   \n",
              "9                  0.797101          4               1         1  ...   \n",
              "\n",
              "   min_positive_polarity  max_positive_polarity  avg_negative_polarity  \\\n",
              "0               0.100000                    0.7              -0.350000   \n",
              "1               0.033333                    0.7              -0.118750   \n",
              "2               0.100000                    1.0              -0.466667   \n",
              "3               0.136364                    0.8              -0.369697   \n",
              "4               0.033333                    1.0              -0.220192   \n",
              "5               0.136364                    0.6              -0.195000   \n",
              "6               0.100000                    1.0              -0.224479   \n",
              "7               0.100000                    1.0              -0.242778   \n",
              "8               0.400000                    0.8              -0.125000   \n",
              "9               0.100000                    0.5              -0.238095   \n",
              "\n",
              "   min_negative_polarity  max_negative_polarity  title_subjectivity  \\\n",
              "0                 -0.600              -0.200000            0.500000   \n",
              "1                 -0.125              -0.100000            0.000000   \n",
              "2                 -0.800              -0.133333            0.000000   \n",
              "3                 -0.600              -0.166667            0.000000   \n",
              "4                 -0.500              -0.050000            0.454545   \n",
              "5                 -0.400              -0.100000            0.642857   \n",
              "6                 -0.500              -0.050000            0.000000   \n",
              "7                 -0.500              -0.050000            1.000000   \n",
              "8                 -0.125              -0.125000            0.125000   \n",
              "9                 -0.500              -0.100000            0.000000   \n",
              "\n",
              "   title_sentiment_polarity  abs_title_subjectivity  \\\n",
              "0                 -0.187500                0.000000   \n",
              "1                  0.000000                0.500000   \n",
              "2                  0.000000                0.500000   \n",
              "3                  0.000000                0.500000   \n",
              "4                  0.136364                0.045455   \n",
              "5                  0.214286                0.142857   \n",
              "6                  0.000000                0.500000   \n",
              "7                  0.500000                0.500000   \n",
              "8                  0.000000                0.375000   \n",
              "9                  0.000000                0.500000   \n",
              "\n",
              "   abs_title_sentiment_polarity  shares  \n",
              "0                      0.187500     593  \n",
              "1                      0.000000     711  \n",
              "2                      0.000000    1500  \n",
              "3                      0.000000    1200  \n",
              "4                      0.136364     505  \n",
              "5                      0.214286     855  \n",
              "6                      0.000000     556  \n",
              "7                      0.500000     891  \n",
              "8                      0.000000    3600  \n",
              "9                      0.000000     710  \n",
              "\n",
              "[10 rows x 61 columns]"
            ]
          },
          "metadata": {
            "tags": []
          },
          "execution_count": 58
        }
      ]
    },
    {
      "cell_type": "markdown",
      "metadata": {
        "id": "MGZGzV9rPo8O"
      },
      "source": [
        "## Normalize Numerical Data"
      ]
    },
    {
      "cell_type": "code",
      "metadata": {
        "id": "cMIHVLJ0Po8R"
      },
      "source": [
        "X_normalized = df.drop(['url',df.keys()[1],df.keys()[-1]], axis=1)"
      ],
      "execution_count": null,
      "outputs": []
    },
    {
      "cell_type": "code",
      "metadata": {
        "colab": {
          "base_uri": "https://localhost:8080/",
          "height": 284
        },
        "id": "E5QKrPF8UxLA",
        "outputId": "151022a8-2370-4236-87a3-456e0df4f6c3"
      },
      "source": [
        "# Normalize the numerical features\n",
        "from sklearn.preprocessing import MinMaxScaler\n",
        "\n",
        "scaler = MinMaxScaler()\n",
        "numerical = ['n_tokens_title', 'n_tokens_content', 'num_hrefs', 'num_self_hrefs', 'num_imgs','num_videos',\\\n",
        "            'average_token_length','num_keywords','self_reference_min_shares','self_reference_max_shares',\\\n",
        "             'self_reference_avg_sharess']\n",
        "X_normalized[numerical] = scaler.fit_transform(df[numerical])\n",
        "display(X_normalized.head(n = 5))"
      ],
      "execution_count": null,
      "outputs": [
        {
          "output_type": "display_data",
          "data": {
            "text/html": [
              "<div>\n",
              "<style scoped>\n",
              "    .dataframe tbody tr th:only-of-type {\n",
              "        vertical-align: middle;\n",
              "    }\n",
              "\n",
              "    .dataframe tbody tr th {\n",
              "        vertical-align: top;\n",
              "    }\n",
              "\n",
              "    .dataframe thead th {\n",
              "        text-align: right;\n",
              "    }\n",
              "</style>\n",
              "<table border=\"1\" class=\"dataframe\">\n",
              "  <thead>\n",
              "    <tr style=\"text-align: right;\">\n",
              "      <th></th>\n",
              "      <th>n_tokens_title</th>\n",
              "      <th>n_tokens_content</th>\n",
              "      <th>n_unique_tokens</th>\n",
              "      <th>n_non_stop_words</th>\n",
              "      <th>n_non_stop_unique_tokens</th>\n",
              "      <th>num_hrefs</th>\n",
              "      <th>num_self_hrefs</th>\n",
              "      <th>num_imgs</th>\n",
              "      <th>num_videos</th>\n",
              "      <th>average_token_length</th>\n",
              "      <th>...</th>\n",
              "      <th>avg_positive_polarity</th>\n",
              "      <th>min_positive_polarity</th>\n",
              "      <th>max_positive_polarity</th>\n",
              "      <th>avg_negative_polarity</th>\n",
              "      <th>min_negative_polarity</th>\n",
              "      <th>max_negative_polarity</th>\n",
              "      <th>title_subjectivity</th>\n",
              "      <th>title_sentiment_polarity</th>\n",
              "      <th>abs_title_subjectivity</th>\n",
              "      <th>abs_title_sentiment_polarity</th>\n",
              "    </tr>\n",
              "  </thead>\n",
              "  <tbody>\n",
              "    <tr>\n",
              "      <th>0</th>\n",
              "      <td>0.476190</td>\n",
              "      <td>0.025844</td>\n",
              "      <td>0.663594</td>\n",
              "      <td>1.0</td>\n",
              "      <td>0.815385</td>\n",
              "      <td>0.013158</td>\n",
              "      <td>0.017241</td>\n",
              "      <td>0.007812</td>\n",
              "      <td>0.0</td>\n",
              "      <td>0.582024</td>\n",
              "      <td>...</td>\n",
              "      <td>0.378636</td>\n",
              "      <td>0.100000</td>\n",
              "      <td>0.7</td>\n",
              "      <td>-0.350000</td>\n",
              "      <td>-0.600</td>\n",
              "      <td>-0.200000</td>\n",
              "      <td>0.500000</td>\n",
              "      <td>-0.187500</td>\n",
              "      <td>0.000000</td>\n",
              "      <td>0.187500</td>\n",
              "    </tr>\n",
              "    <tr>\n",
              "      <th>1</th>\n",
              "      <td>0.333333</td>\n",
              "      <td>0.030092</td>\n",
              "      <td>0.604743</td>\n",
              "      <td>1.0</td>\n",
              "      <td>0.791946</td>\n",
              "      <td>0.009868</td>\n",
              "      <td>0.008621</td>\n",
              "      <td>0.007812</td>\n",
              "      <td>0.0</td>\n",
              "      <td>0.611043</td>\n",
              "      <td>...</td>\n",
              "      <td>0.286915</td>\n",
              "      <td>0.033333</td>\n",
              "      <td>0.7</td>\n",
              "      <td>-0.118750</td>\n",
              "      <td>-0.125</td>\n",
              "      <td>-0.100000</td>\n",
              "      <td>0.000000</td>\n",
              "      <td>0.000000</td>\n",
              "      <td>0.500000</td>\n",
              "      <td>0.000000</td>\n",
              "    </tr>\n",
              "    <tr>\n",
              "      <th>2</th>\n",
              "      <td>0.333333</td>\n",
              "      <td>0.024900</td>\n",
              "      <td>0.575130</td>\n",
              "      <td>1.0</td>\n",
              "      <td>0.663866</td>\n",
              "      <td>0.009868</td>\n",
              "      <td>0.008621</td>\n",
              "      <td>0.007812</td>\n",
              "      <td>0.0</td>\n",
              "      <td>0.546334</td>\n",
              "      <td>...</td>\n",
              "      <td>0.495833</td>\n",
              "      <td>0.100000</td>\n",
              "      <td>1.0</td>\n",
              "      <td>-0.466667</td>\n",
              "      <td>-0.800</td>\n",
              "      <td>-0.133333</td>\n",
              "      <td>0.000000</td>\n",
              "      <td>0.000000</td>\n",
              "      <td>0.500000</td>\n",
              "      <td>0.000000</td>\n",
              "    </tr>\n",
              "    <tr>\n",
              "      <th>3</th>\n",
              "      <td>0.333333</td>\n",
              "      <td>0.062662</td>\n",
              "      <td>0.503788</td>\n",
              "      <td>1.0</td>\n",
              "      <td>0.665635</td>\n",
              "      <td>0.029605</td>\n",
              "      <td>0.000000</td>\n",
              "      <td>0.007812</td>\n",
              "      <td>0.0</td>\n",
              "      <td>0.547768</td>\n",
              "      <td>...</td>\n",
              "      <td>0.385965</td>\n",
              "      <td>0.136364</td>\n",
              "      <td>0.8</td>\n",
              "      <td>-0.369697</td>\n",
              "      <td>-0.600</td>\n",
              "      <td>-0.166667</td>\n",
              "      <td>0.000000</td>\n",
              "      <td>0.000000</td>\n",
              "      <td>0.500000</td>\n",
              "      <td>0.000000</td>\n",
              "    </tr>\n",
              "    <tr>\n",
              "      <th>4</th>\n",
              "      <td>0.523810</td>\n",
              "      <td>0.126505</td>\n",
              "      <td>0.415646</td>\n",
              "      <td>1.0</td>\n",
              "      <td>0.540890</td>\n",
              "      <td>0.062500</td>\n",
              "      <td>0.163793</td>\n",
              "      <td>0.156250</td>\n",
              "      <td>0.0</td>\n",
              "      <td>0.582331</td>\n",
              "      <td>...</td>\n",
              "      <td>0.411127</td>\n",
              "      <td>0.033333</td>\n",
              "      <td>1.0</td>\n",
              "      <td>-0.220192</td>\n",
              "      <td>-0.500</td>\n",
              "      <td>-0.050000</td>\n",
              "      <td>0.454545</td>\n",
              "      <td>0.136364</td>\n",
              "      <td>0.045455</td>\n",
              "      <td>0.136364</td>\n",
              "    </tr>\n",
              "  </tbody>\n",
              "</table>\n",
              "<p>5 rows × 58 columns</p>\n",
              "</div>"
            ],
            "text/plain": [
              "   n_tokens_title  n_tokens_content  n_unique_tokens  n_non_stop_words  \\\n",
              "0        0.476190          0.025844         0.663594               1.0   \n",
              "1        0.333333          0.030092         0.604743               1.0   \n",
              "2        0.333333          0.024900         0.575130               1.0   \n",
              "3        0.333333          0.062662         0.503788               1.0   \n",
              "4        0.523810          0.126505         0.415646               1.0   \n",
              "\n",
              "   n_non_stop_unique_tokens  num_hrefs  num_self_hrefs  num_imgs  num_videos  \\\n",
              "0                  0.815385   0.013158        0.017241  0.007812         0.0   \n",
              "1                  0.791946   0.009868        0.008621  0.007812         0.0   \n",
              "2                  0.663866   0.009868        0.008621  0.007812         0.0   \n",
              "3                  0.665635   0.029605        0.000000  0.007812         0.0   \n",
              "4                  0.540890   0.062500        0.163793  0.156250         0.0   \n",
              "\n",
              "   average_token_length  ...  avg_positive_polarity  min_positive_polarity  \\\n",
              "0              0.582024  ...               0.378636               0.100000   \n",
              "1              0.611043  ...               0.286915               0.033333   \n",
              "2              0.546334  ...               0.495833               0.100000   \n",
              "3              0.547768  ...               0.385965               0.136364   \n",
              "4              0.582331  ...               0.411127               0.033333   \n",
              "\n",
              "   max_positive_polarity  avg_negative_polarity  min_negative_polarity  \\\n",
              "0                    0.7              -0.350000                 -0.600   \n",
              "1                    0.7              -0.118750                 -0.125   \n",
              "2                    1.0              -0.466667                 -0.800   \n",
              "3                    0.8              -0.369697                 -0.600   \n",
              "4                    1.0              -0.220192                 -0.500   \n",
              "\n",
              "   max_negative_polarity  title_subjectivity  title_sentiment_polarity  \\\n",
              "0              -0.200000            0.500000                 -0.187500   \n",
              "1              -0.100000            0.000000                  0.000000   \n",
              "2              -0.133333            0.000000                  0.000000   \n",
              "3              -0.166667            0.000000                  0.000000   \n",
              "4              -0.050000            0.454545                  0.136364   \n",
              "\n",
              "   abs_title_subjectivity  abs_title_sentiment_polarity  \n",
              "0                0.000000                      0.187500  \n",
              "1                0.500000                      0.000000  \n",
              "2                0.500000                      0.000000  \n",
              "3                0.500000                      0.000000  \n",
              "4                0.045455                      0.136364  \n",
              "\n",
              "[5 rows x 58 columns]"
            ]
          },
          "metadata": {
            "tags": []
          }
        }
      ]
    },
    {
      "cell_type": "markdown",
      "metadata": {
        "id": "iX_vNj_VZRY_"
      },
      "source": [
        "## Plot ROC\n"
      ]
    },
    {
      "cell_type": "code",
      "metadata": {
        "id": "gy85bdBnPo8g"
      },
      "source": [
        "def plot_ROC(clf, X_test, y_test):\n",
        "    probs = clf.predict_proba(X_test)\n",
        "    preds = probs[:,1]\n",
        "    fpr, tpr, threshold = metrics.roc_curve(y_test, preds)\n",
        "    roc_auc = metrics.auc(fpr, tpr)\n",
        "\n",
        "    plt.title('Receiver Operating Characteristic')\n",
        "    plt.plot(fpr, tpr, 'b', label = 'AUC = %0.2f' % roc_auc)\n",
        "    plt.legend(loc = 'lower right')\n",
        "    plt.plot([0, 1], [0, 1],'r--')\n",
        "    plt.xlim([0, 1])\n",
        "    plt.ylim([0, 1])\n",
        "    plt.ylabel('True Positive Rate')\n",
        "    plt.xlabel('False Positive Rate')\n",
        "    plt.show()"
      ],
      "execution_count": null,
      "outputs": []
    },
    {
      "cell_type": "markdown",
      "metadata": {
        "id": "dp5HtQqXmhw2"
      },
      "source": [
        "## PCA\n"
      ]
    },
    {
      "cell_type": "code",
      "metadata": {
        "colab": {
          "base_uri": "https://localhost:8080/",
          "height": 295
        },
        "id": "dv7UPsGMVFMf",
        "outputId": "48fd7110-e14a-4a5e-b4ce-aab2bc032f63"
      },
      "source": [
        "# PCA\n",
        "import matplotlib.pyplot as pl\n",
        "from IPython import get_ipython\n",
        "from sklearn.decomposition import PCA\n",
        "pca = PCA().fit(X_normalized)\n",
        "#Plotting the Cumulative Summation of the Explained Variance\n",
        "plt.figure()\n",
        "plt.plot(np.cumsum(pca.explained_variance_ratio_))\n",
        "plt.xlabel('Number of Components')\n",
        "plt.ylabel('Variance (%)') #for each component\n",
        "plt.title('PCA')\n",
        "plt.show()"
      ],
      "execution_count": null,
      "outputs": [
        {
          "output_type": "display_data",
          "data": {
            "image/png": "[encoded data removed]",
            "text/plain": [
              "<Figure size 432x288 with 1 Axes>"
            ]
          },
          "metadata": {
            "tags": [],
            "needs_background": "light"
          }
        }
      ]
    },
    {
      "cell_type": "code",
      "metadata": {
        "colab": {
          "base_uri": "https://localhost:8080/",
          "height": 627
        },
        "id": "bBW4cv38vY_u",
        "outputId": "ea510d6b-6665-4f00-d770-10afdfd91769"
      },
      "source": [
        "from sklearn.decomposition import PCA\n",
        "pca = PCA(n_components=2)\n",
        "X_pca = pca.fit_transform(X_normalized)\n",
        "reduced_features = pd.DataFrame(X_pca, columns = ['Dimension 1', 'Dimension 2'])\n",
        "reduced_features_pop = reduced_features[df['shares']>=1400]\n",
        "reduced_features_unpop = reduced_features[df['shares']<1400]\n",
        "\n",
        "fig, ax = pl.subplots(figsize = (5,5))\n",
        "# Scatterplot of the reduced data    \n",
        "ax.scatter(x=reduced_features_pop.loc[:, 'Dimension 1'], y=reduced_features_pop.loc[:, 'Dimension 2'],\\\n",
        "           c='b',alpha=0.5)\n",
        "ax.scatter(x=reduced_features_unpop.loc[:, 'Dimension 1'], y=reduced_features_unpop.loc[:, 'Dimension 2'],\\\n",
        "           c='r', alpha=0.5)\n",
        "ax.set_xlabel(\"Dimension 1\", fontsize=14)\n",
        "ax.set_ylabel(\"Dimension 2\", fontsize=14)\n",
        "ax.set_title(\"PCA on 2 dimensions.\", fontsize=16);\n",
        "pl.savefig(\"pca2.jpg\")"
      ],
      "execution_count": null,
      "outputs": [
        {
          "output_type": "display_data",
          "data": {
            "image/png": "[encoded data removed]",
            "text/plain": [
              "<Figure size 360x360 with 1 Axes>"
            ]
          },
          "metadata": {
            "tags": [],
            "needs_background": "light"
          }
        }
      ]
    },
    {
      "cell_type": "code",
      "metadata": {
        "id": "a8c0oQ_NWV-b"
      },
      "source": [
        "df.loc[df['shares'] < 1400, 'shares'] = 0\n",
        "df.loc[df['shares'] >= 1400, 'shares'] = 1\n",
        "\n",
        "\n",
        "y = df['shares']"
      ],
      "execution_count": null,
      "outputs": []
    },
    {
      "cell_type": "markdown",
      "metadata": {
        "id": "6T2l-5L3t4NO"
      },
      "source": [
        "## Wrapper"
      ]
    },
    {
      "cell_type": "code",
      "metadata": {
        "id": "YvjYlKVLt4NO"
      },
      "source": [
        "from sklearn.feature_selection import SelectKBest, chi2\n",
        "from mlxtend.feature_selection import SequentialFeatureSelector as SFS\n",
        "from sklearn.linear_model import LinearRegression\n",
        "\n",
        "sfs = SFS(LinearRegression(), k_features=10, forward=True, floating=False, scoring = 'r2', cv = 0)\n",
        "sfs.fit(X_normalized, y)\n",
        "X_wrapper = X_normalized[list(sfs.k_feature_names_)]"
      ],
      "execution_count": null,
      "outputs": []
    },
    {
      "cell_type": "markdown",
      "metadata": {
        "id": "NJF_FWAxt4NO"
      },
      "source": [
        "## Comparing Normalization, PCA and Wrapper methods"
      ]
    },
    {
      "cell_type": "code",
      "metadata": {
        "id": "-_VfsE5Ot4NP"
      },
      "source": [
        "X_train, X_test, y_train, y_test = model_selection.train_test_split(X_normalized, y, test_size=0.3, random_state=100)"
      ],
      "execution_count": null,
      "outputs": []
    },
    {
      "cell_type": "code",
      "metadata": {
        "id": "r49UE4jQt4NP",
        "outputId": "fc666aaa-c68d-4cd4-c9e5-3e8204fc926f"
      },
      "source": [
        "print(\"---------------KNN-----------\")\n",
        "knn_clf = KNeighborsClassifier().fit(X_train,y_train)\n",
        "y_pred = knn_clf.predict(X_test)\n",
        "\n",
        "print ('Accuracy:', accuracy_score(y_test, y_pred))\n",
        "print ('Precision Score:', precision_score(y_test, y_pred))\n",
        "print ('Recall Score:', recall_score(y_test, y_pred, average='macro'))\n",
        "print ('F1 Score:', f1_score(y_test, y_pred, average='macro'))\n",
        "knn_f1=f1_score(y_test, y_pred, average='macro')\n",
        "\n",
        "plot_ROC(knn_clf, X_test, y_test)"
      ],
      "execution_count": null,
      "outputs": [
        {
          "output_type": "stream",
          "text": [
            "---------------KNN-----------\n",
            "Accuracy: 0.5642340675971078\n",
            "Precision Score: 0.5842145593869732\n",
            "Recall Score: 0.5616923745292244\n",
            "F1 Score: 0.5616511798700379\n"
          ],
          "name": "stdout"
        },
        {
          "output_type": "display_data",
          "data": {
            "image/png": "[encoded data removed]",
            "text/plain": [
              "<Figure size 432x288 with 1 Axes>"
            ]
          },
          "metadata": {
            "tags": [],
            "needs_background": "light"
          }
        }
      ]
    },
    {
      "cell_type": "code",
      "metadata": {
        "id": "rF2qfI2it4NQ"
      },
      "source": [
        "Xp_train, Xp_test, yp_train, yp_test = model_selection.train_test_split(X_pca, y, test_size=0.3, random_state=100)"
      ],
      "execution_count": null,
      "outputs": []
    },
    {
      "cell_type": "code",
      "metadata": {
        "id": "MVktVtkZYwnu",
        "outputId": "2b2abe6b-3e56-41c1-ca89-16a5ac052f30"
      },
      "source": [
        "print(\"---------------KNN with PCA-----------\")\n",
        "knn_clf = KNeighborsClassifier().fit(Xp_train,yp_train)\n",
        "yp_pred = knn_clf.predict(Xp_test)\n",
        "\n",
        "print ('Accuracy:', accuracy_score(yp_test, yp_pred))\n",
        "print ('Precision Score:', precision_score(yp_test, yp_pred))\n",
        "print ('Recall Score:', recall_score(yp_test, yp_pred, average='macro'))\n",
        "print ('F1 Score:', f1_score(yp_test, yp_pred, average='macro'))\n",
        "knn_pca_f1=f1_score(yp_test, yp_pred, average='macro')\n",
        "\n",
        "plot_ROC(knn_clf, Xp_test, yp_test)"
      ],
      "execution_count": null,
      "outputs": [
        {
          "output_type": "stream",
          "text": [
            "---------------KNN with PCA-----------\n",
            "Accuracy: 0.5287539936102237\n",
            "Precision Score: 0.5517188693659282\n",
            "Recall Score: 0.5260043346419858\n",
            "F1 Score: 0.5258363267821553\n"
          ],
          "name": "stdout"
        },
        {
          "output_type": "display_data",
          "data": {
            "image/png": "[encoded data removed]",
            "text/plain": [
              "<Figure size 432x288 with 1 Axes>"
            ]
          },
          "metadata": {
            "tags": [],
            "needs_background": "light"
          }
        }
      ]
    },
    {
      "cell_type": "markdown",
      "metadata": {
        "id": "i-gv6luSt4NR"
      },
      "source": [
        "## Comparing Wrapper result on Linear"
      ]
    },
    {
      "cell_type": "code",
      "metadata": {
        "id": "YS0mYg4Ut4NR"
      },
      "source": [
        "Xw_train, Xw_test, yw_train, yw_test = model_selection.train_test_split(X_wrapper.values, y, test_size=0.3, random_state=100)"
      ],
      "execution_count": null,
      "outputs": []
    },
    {
      "cell_type": "code",
      "metadata": {
        "id": "1qR1mSKct4NR",
        "outputId": "8ba75699-7fc6-406f-974d-d03a2767a8b6"
      },
      "source": [
        "print(\"---------------KNN with Wrapper-----------\")\n",
        "knn_clf = KNeighborsClassifier().fit(Xw_train,yw_train)\n",
        "yw_pred = knn_clf.predict(Xw_test)\n",
        "\n",
        "print ('Accuracy:', accuracy_score(yw_test, yp_pred))\n",
        "print ('Precision Score:', precision_score(yw_test, yw_pred))\n",
        "print ('Recall Score:', recall_score(yw_test, yw_pred, average='macro'))\n",
        "print ('F1 Score:', f1_score(yw_test, yw_pred, average='macro'))\n",
        "knn_wrapper_f1=f1_score(yw_test, yw_pred, average='macro')\n",
        "\n",
        "plot_ROC(knn_clf, Xw_test, yw_test)"
      ],
      "execution_count": null,
      "outputs": [
        {
          "output_type": "stream",
          "text": [
            "---------------KNN with Wrapper-----------\n",
            "Accuracy: 0.5287539936102237\n",
            "Precision Score: 0.5835595776772248\n",
            "Recall Score: 0.5619525960085077\n",
            "F1 Score: 0.5617805572607831\n"
          ],
          "name": "stdout"
        },
        {
          "output_type": "display_data",
          "data": {
            "image/png": "[encoded data removed]",
            "text/plain": [
              "<Figure size 432x288 with 1 Axes>"
            ]
          },
          "metadata": {
            "tags": [],
            "needs_background": "light"
          }
        }
      ]
    },
    {
      "cell_type": "code",
      "metadata": {
        "id": "inSCpmyHt4NS",
        "outputId": "ca3a8f96-3df8-416e-e95f-6948c43eb26d"
      },
      "source": [
        "plt.bar(['KNN','KNN with PCA','KNN with Wrapper'],\n",
        "        [knn_f1,knn_pca_f1, knn_wrapper_f1], \n",
        "        align='center',\n",
        "        color = 'blue')\n",
        "plt.title('Feature Filtering Comparrison')\n",
        "plt.xlabel('Classifiers')\n",
        "plt.ylabel('F Score')\n",
        "plt.ylim(0,1)\n",
        "plt.show()"
      ],
      "execution_count": null,
      "outputs": [
        {
          "output_type": "display_data",
          "data": {
            "image/png": "[encoded data removed]",
            "text/plain": [
              "<Figure size 432x288 with 1 Axes>"
            ]
          },
          "metadata": {
            "tags": [],
            "needs_background": "light"
          }
        }
      ]
    },
    {
      "cell_type": "markdown",
      "metadata": {
        "id": "RQvkyDOet4NS"
      },
      "source": [
        "## Split data into train and test using best feature selection method"
      ]
    },
    {
      "cell_type": "code",
      "metadata": {
        "colab": {
          "base_uri": "https://localhost:8080/",
          "height": 90
        },
        "id": "baVdrURPUutB",
        "outputId": "1eecd340-913a-4614-ca8b-4d33c375ca7f"
      },
      "source": [
        "X_train, X_test, y_train, y_test = model_selection.train_test_split(X_wrapper, y, test_size=0.3, random_state=100)\n",
        "print(\"X_train shape:\",X_train.shape)\n",
        "print(\"y_train shape:\",y_train.shape)\n",
        "print(\"X_test shape :\",X_test.shape)\n",
        "print(\"y_test shape :\",y_test.shape)"
      ],
      "execution_count": null,
      "outputs": [
        {
          "output_type": "stream",
          "text": [
            "X_train shape: (27750, 10)\n",
            "y_train shape: (27750,)\n",
            "X_test shape : (11894, 10)\n",
            "y_test shape : (11894,)\n"
          ],
          "name": "stdout"
        }
      ]
    },
    {
      "cell_type": "markdown",
      "metadata": {
        "id": "dTxDlVqrPo7w"
      },
      "source": [
        "## Grid Search "
      ]
    },
    {
      "cell_type": "code",
      "metadata": {
        "id": "uSCVta6KPo78"
      },
      "source": [
        "def knn_param_selection(X, y):\n",
        "    param_grid = {\"n_neighbors\" : [20, 30, 40, 50]}\n",
        "    grid = GridSearchCV(KNeighborsClassifier(), param_grid=param_grid, cv=5)\n",
        "    grid.fit(X, y)\n",
        "    print(\"Best parameters for KNN: \",grid.best_params_)\n",
        "    return grid.best_params_\n",
        "    "
      ],
      "execution_count": null,
      "outputs": []
    },
    {
      "cell_type": "code",
      "metadata": {
        "colab": {
          "base_uri": "https://localhost:8080/",
          "height": 35
        },
        "id": "axdIexE7Po8b",
        "outputId": "8ba45591-0e1a-41e6-b49b-564ff3c8df2c"
      },
      "source": [
        "best_params_KNN = knn_param_selection(X_train, y_train)"
      ],
      "execution_count": null,
      "outputs": [
        {
          "output_type": "stream",
          "text": [
            "Best parameters for KNN:  {'n_neighbors': 50}\n"
          ],
          "name": "stdout"
        }
      ]
    },
    {
      "cell_type": "code",
      "metadata": {
        "id": "06G_0OFNPo72"
      },
      "source": [
        "def rf_param_selection(X, y):\n",
        "    param_grid = {\"n_estimators\" : [50, 100, 200, 400],\n",
        "                  \"criterion\": [\"gini\", \"entropy\"]}\n",
        "\n",
        "    grid_search = GridSearchCV(RandomForestClassifier(), param_grid=param_grid,cv=5)\n",
        "    grid_search.fit(X, y)\n",
        "\n",
        "    print(\"Best parameters for RF: \",grid_search.best_params_)\n",
        "    return grid_search.best_params_"
      ],
      "execution_count": null,
      "outputs": []
    },
    {
      "cell_type": "code",
      "metadata": {
        "colab": {
          "base_uri": "https://localhost:8080/",
          "height": 35
        },
        "id": "_3xsdd6mnVsO",
        "outputId": "5e12440f-18a8-48ef-f6f5-c3a18f97fd1d"
      },
      "source": [
        "best_tree_RF= rf_param_selection(X_train, y_train)"
      ],
      "execution_count": null,
      "outputs": [
        {
          "output_type": "stream",
          "text": [
            "Best parameters for RF:  {'criterion': 'gini', 'n_estimators': 200}\n"
          ],
          "name": "stdout"
        }
      ]
    },
    {
      "cell_type": "code",
      "metadata": {
        "id": "GIXy82JgPo75"
      },
      "source": [
        "def ada_param_selection(X, y):\n",
        "    \n",
        "    param_grid = {\"n_estimators\" : [50, 100, 200, 400]}\n",
        "\n",
        "\n",
        "    DTC = DecisionTreeClassifier()\n",
        "\n",
        "    ABC = AdaBoostClassifier(base_estimator = DTC)\n",
        "\n",
        "    grid_search = GridSearchCV(ABC, param_grid=param_grid,cv=5)\n",
        "    grid_search.fit(X, y)\n",
        "    \n",
        "    print(\"Best parameters for AdaBoost: \",grid_search.best_params_)\n",
        "    return grid_search.best_params_"
      ],
      "execution_count": null,
      "outputs": []
    },
    {
      "cell_type": "code",
      "metadata": {
        "id": "XDMgK2xQnTWg",
        "scrolled": false,
        "outputId": "04f28c30-c0e1-4780-be60-5344ab7076f9"
      },
      "source": [
        "best_tree_AdaBoost= ada_param_selection(X_train, y_train)"
      ],
      "execution_count": null,
      "outputs": [
        {
          "output_type": "stream",
          "text": [
            "Best parameters for AdaBoost:  {'n_estimators': 200}\n"
          ],
          "name": "stdout"
        }
      ]
    },
    {
      "cell_type": "code",
      "metadata": {
        "id": "DjhDmzU0t4NW"
      },
      "source": [
        "def percep_param_selection(X,y):\n",
        "    perceptron = Perceptron()\n",
        "    gridsearch = GridSearchCV(perceptron, {'alpha': [0.001, 0.01, 0.1],\n",
        "                                                     'max_iter': [16, 32, 64]}, scoring='f1')\n",
        "\n",
        "    gridsearch.fit(X, y)\n",
        "\n",
        "    print (\"Best params for Perceptron: {}\".format(gridsearch.best_params_))\n",
        "    return gridsearch.best_params_\n"
      ],
      "execution_count": null,
      "outputs": []
    },
    {
      "cell_type": "code",
      "metadata": {
        "id": "G6c7YYIpt4NW",
        "outputId": "8612a4a6-ec6a-4d58-8a59-87359503deb3"
      },
      "source": [
        "best_perc_param = percep_param_selection(X_train,y_train)"
      ],
      "execution_count": null,
      "outputs": [
        {
          "output_type": "stream",
          "text": [
            "Best params for Perceptron: {'alpha': 0.001, 'max_iter': 16}\n"
          ],
          "name": "stdout"
        }
      ]
    },
    {
      "cell_type": "markdown",
      "metadata": {
        "id": "osf4GURpPo8f"
      },
      "source": [
        "## Classification Methods"
      ]
    },
    {
      "cell_type": "code",
      "metadata": {
        "id": "ywxM0E_rPo8j",
        "scrolled": true,
        "outputId": "01c67f69-1102-4f13-a183-5b5744b5294a"
      },
      "source": [
        "print(\"---------------KNN---------------\")\n",
        "knn_clf = KNeighborsClassifier(**best_params_KNN).fit(X_train,y_train)\n",
        "y_pred = knn_clf.predict(X_test)\n",
        "\n",
        "print ('Accuracy:', accuracy_score(y_test, y_pred))\n",
        "print ('Precision Score:', precision_score(y_test, y_pred))\n",
        "print ('Recall Score:', recall_score(y_test, y_pred, average='macro'))\n",
        "print ('F1 Score:', f1_score(y_test, y_pred, average='macro'))\n",
        "knn_f1=f1_score(y_test, y_pred, average='macro')\n",
        "\n",
        "plot_ROC(knn_clf, X_test, y_test)"
      ],
      "execution_count": null,
      "outputs": [
        {
          "output_type": "stream",
          "text": [
            "---------------KNN---------------\n",
            "Accuracy: 0.5892887170001682\n",
            "Precision Score: 0.6014229708145782\n",
            "Recall Score: 0.5851068615644422\n",
            "F1 Score: 0.584514297393213\n"
          ],
          "name": "stdout"
        },
        {
          "output_type": "display_data",
          "data": {
            "image/png": "[encoded data removed]",
            "text/plain": [
              "<Figure size 432x288 with 1 Axes>"
            ]
          },
          "metadata": {
            "tags": [],
            "needs_background": "light"
          }
        }
      ]
    },
    {
      "cell_type": "code",
      "metadata": {
        "id": "_ouQ5r9XPo8x",
        "outputId": "2a618005-4f2e-4ca4-c82e-477ec16733b4"
      },
      "source": [
        "print(\"---------------Naive Bayes---------------\")\n",
        "naive_clf = GaussianNB().fit(X_train,y_train)\n",
        "y_pred = naive_clf.predict(X_test)\n",
        "\n",
        "print ('Accuracy:', accuracy_score(y_test, y_pred))\n",
        "print ('Precision Score:', precision_score(y_test, y_pred))\n",
        "print ('Recall Score:', recall_score(y_test, y_pred, average='macro'))\n",
        "print ('F1 Score:', f1_score(y_test, y_pred, average='macro'))\n",
        "naive_f1=f1_score(y_test, y_pred, average='macro')\n",
        "\n",
        "\n",
        "plot_ROC(naive_clf, X_test, y_test)"
      ],
      "execution_count": null,
      "outputs": [
        {
          "output_type": "stream",
          "text": [
            "---------------Naive Bayes---------------\n",
            "Accuracy: 0.5649907516394821\n",
            "Precision Score: 0.6313418681839734\n",
            "Recall Score: 0.5734123823443783\n",
            "F1 Score: 0.5589321120380724\n"
          ],
          "name": "stdout"
        },
        {
          "output_type": "display_data",
          "data": {
            "image/png": "[encoded data removed]",
            "text/plain": [
              "<Figure size 432x288 with 1 Axes>"
            ]
          },
          "metadata": {
            "tags": [],
            "needs_background": "light"
          }
        }
      ]
    },
    {
      "cell_type": "code",
      "metadata": {
        "id": "RLjKOGlNPo8o",
        "outputId": "62e59640-2069-4a61-d7b6-db605d1e5da2"
      },
      "source": [
        "print(\"---------------Random Forest---------------\")\n",
        "rf_clf = RandomForestClassifier(**best_tree_RF).fit(X_train,y_train)\n",
        "y_pred = rf_clf.predict(X_test)\n",
        "\n",
        "print ('Accuracy:', accuracy_score(y_test, y_pred))\n",
        "print ('Precision Score:', precision_score(y_test, y_pred))\n",
        "print ('Recall Score:', recall_score(y_test, y_pred, average='macro'))\n",
        "print ('F1 Score:', f1_score(y_test, y_pred, average='macro'))\n",
        "rf_f1=f1_score(y_test, y_pred, average='macro')\n",
        "\n",
        "plot_ROC(rf_clf, X_test, y_test)   "
      ],
      "execution_count": null,
      "outputs": [
        {
          "output_type": "stream",
          "text": [
            "---------------Random Forest---------------\n",
            "Accuracy: 0.6422565999663696\n",
            "Precision Score: 0.6512460826742277\n",
            "Recall Score: 0.6391270706810779\n",
            "F1 Score: 0.6392322812200613\n"
          ],
          "name": "stdout"
        },
        {
          "output_type": "display_data",
          "data": {
            "image/png": "[encoded data removed]",
            "text/plain": [
              "<Figure size 432x288 with 1 Axes>"
            ]
          },
          "metadata": {
            "tags": [],
            "needs_background": "light"
          }
        }
      ]
    },
    {
      "cell_type": "code",
      "metadata": {
        "id": "7Hn4J2vdPo8r",
        "scrolled": true,
        "outputId": "d366e7a6-cedc-4721-ad03-a42e4a32f4ff"
      },
      "source": [
        "print(\"---------------Ada Boost---------------\")\n",
        "ada_clf = AdaBoostClassifier(**best_tree_AdaBoost).fit(X_train,y_train)\n",
        "y_pred = ada_clf.predict(X_test)\n",
        "\n",
        "print ('Accuracy:', accuracy_score(y_test, y_pred))\n",
        "print ('Precision Score:', precision_score(y_test, y_pred))\n",
        "print ('Recall Score:', recall_score(y_test, y_pred, average='macro'))\n",
        "print ('F1 Score:', f1_score(y_test, y_pred, average='macro'))\n",
        "ada_f1=f1_score(y_test, y_pred, average='macro')\n",
        "\n",
        "plot_ROC(ada_clf, X_test, y_test)"
      ],
      "execution_count": null,
      "outputs": [
        {
          "output_type": "stream",
          "text": [
            "---------------Ada Boost---------------\n",
            "Accuracy: 0.6499915923995292\n",
            "Precision Score: 0.6548297530322957\n",
            "Recall Score: 0.6462120216763869\n",
            "F1 Score: 0.6462017961531419\n"
          ],
          "name": "stdout"
        },
        {
          "output_type": "display_data",
          "data": {
            "image/png": "[encoded data removed]",
            "text/plain": [
              "<Figure size 432x288 with 1 Axes>"
            ]
          },
          "metadata": {
            "tags": [],
            "needs_background": "light"
          }
        }
      ]
    },
    {
      "cell_type": "code",
      "metadata": {
        "id": "3sQ0e5QJt4NY",
        "outputId": "3c7816c5-ccc3-42b7-f133-df54d71619b1"
      },
      "source": [
        "print(\"---------------Perceptron---------------\")\n",
        "perc_clf = Perceptron(**best_perc_param).fit(X_train, y_train)\n",
        "y_pred = perc_clf.predict(X_test)\n",
        "\n",
        "\n",
        "print ('Accuracy:', accuracy_score(y_test, y_pred))\n",
        "print ('Precision Score:', precision_score(y_test, y_pred, average='weighted', labels=np.unique(y_pred)))\n",
        "print ('Recall Score:', recall_score(y_test, y_pred, average='weighted', labels=np.unique(y_pred)))\n",
        "print ('F1 Score:', f1_score(y_test, y_pred, average='weighted', labels=np.unique(y_pred)))\n",
        "real_perc_f1=f1_score(y_test, y_pred,  average='weighted', labels=np.unique(y_pred))\n"
      ],
      "execution_count": null,
      "outputs": [
        {
          "output_type": "stream",
          "text": [
            "---------------Perceptron---------------\n",
            "Accuracy: 0.4846140911383891\n",
            "Precision Score: 0.5332836235515442\n",
            "Recall Score: 0.4846140911383891\n",
            "F1 Score: 0.37523302049460916\n"
          ],
          "name": "stdout"
        }
      ]
    },
    {
      "cell_type": "markdown",
      "metadata": {
        "id": "pfoodpbRt4NZ"
      },
      "source": [
        "**Custom Perceptron**"
      ]
    },
    {
      "cell_type": "code",
      "metadata": {
        "scrolled": false,
        "id": "bf2n2cblt4NZ"
      },
      "source": [
        "def evaluate_algorithm(train_set, test_set ,algorithm, *args):\n",
        "    predicted = algorithm(train_set, test_set, *args)\n",
        "    actual = [row[-1] for row in test_set]\n",
        "    accuracy =  accuracy_score(actual, predicted)\n",
        "    precision = precision_score(actual, predicted)\n",
        "    recall = recall_score(actual, predicted)\n",
        "    f1=f1_score(actual, predicted)\n",
        "    \n",
        "    fpr, tpr, threshold = metrics.roc_curve(actual, predicted)\n",
        "    roc_auc = metrics.auc(fpr, tpr)\n",
        "    \n",
        "    plt.title('Receiver Operating Characteristic')\n",
        "    plt.plot(fpr, tpr, 'b', label = 'AUC = %0.2f' % roc_auc)\n",
        "    plt.legend(loc = 'lower right')\n",
        "    plt.plot([0, 1], [0, 1],'r--')\n",
        "    plt.xlim([0, 1])\n",
        "    plt.ylim([0, 1])\n",
        "    plt.ylabel('True Positive Rate')\n",
        "    plt.xlabel('False Positive Rate')\n",
        "    plt.show()\n",
        "        \n",
        "    return accuracy,precision,recall,f1\n",
        " \n",
        "# Make a prediction with weights\n",
        "def predict(row, weights):\n",
        "    activation = weights[0] #İlk ağırlık biastır. Herhangi bir inputtan sorumlu değil.\n",
        "    for i in range(len(row)-1):\n",
        "        activation += weights[i + 1] * row[i] #activation = (w1 * X1) + (w2 * X2)+... + bias\n",
        "    return 1.0 if activation >= 0.0 else 0.0\n",
        " \n",
        "# Estimate Perceptron weights using stochastic gradient descent\n",
        "def train_weights(train, l_rate, n_epoch):\n",
        "    weights = [0.0 for i in range(len(train[0]))]\n",
        "    for epoch in range(n_epoch):\n",
        "        for row in train:\n",
        "            prediction = predict(row, weights)\n",
        "            error = row[-1] - prediction\n",
        "            weights[0] = weights[0] + l_rate * error #biası güncelle\n",
        "            for i in range(len(row)-1):\n",
        "                weights[i + 1] = weights[i + 1] + l_rate * error * row[i] #her bir satıra ait ağırlıkları güncelle\n",
        "    return weights\n",
        " \n",
        "# Perceptron Algorithm With Stochastic Gradient Descent\n",
        "def perceptron(train, test, l_rate, n_epoch):\n",
        "    predictions = list()\n",
        "    weights = train_weights(train, l_rate, n_epoch)\n",
        "    for row in test:\n",
        "        prediction = predict(row, weights)\n",
        "        predictions.append(prediction)\n",
        "    return(predictions)"
      ],
      "execution_count": null,
      "outputs": []
    },
    {
      "cell_type": "code",
      "metadata": {
        "id": "Rt0hZcqrt4Na",
        "outputId": "1b04ee27-37a3-49c4-98a6-edbd251da142"
      },
      "source": [
        "train_set = np.column_stack((X_train,y_train))\n",
        "test_set = np.column_stack((X_test,y_test))\n",
        "# evaluate algorithm\n",
        "l_rate = best_perc_param['alpha']\n",
        "n_epoch = best_perc_param['max_iter']\n",
        "accuracy,precision,recall,percep_f1= evaluate_algorithm(train_set, test_set, perceptron, l_rate, n_epoch)"
      ],
      "execution_count": null,
      "outputs": [
        {
          "output_type": "display_data",
          "data": {
            "image/png": "[encoded data removed]",
            "text/plain": [
              "<Figure size 432x288 with 1 Axes>"
            ]
          },
          "metadata": {
            "tags": [],
            "needs_background": "light"
          }
        }
      ]
    },
    {
      "cell_type": "code",
      "metadata": {
        "id": "uIEzxeeWt4Nb",
        "outputId": "a38673a8-bd2f-4702-ca74-0ac4d63e22c4"
      },
      "source": [
        "print(\"------Custom Perceptron------------\")\n",
        "print('Accuracy: %s' % accuracy)\n",
        "print('Precision: %s' % precision)\n",
        "print('Recall: %s' % recall)\n",
        "print('F1: %s' % percep_f1)"
      ],
      "execution_count": null,
      "outputs": [
        {
          "output_type": "stream",
          "text": [
            "------Custom Perceptron------------\n",
            "Accuracy: 0.5285858416008071\n",
            "Precision: 0.5284258401414975\n",
            "Recall: 0.9987265202164916\n",
            "F1: 0.6911594602038006\n"
          ],
          "name": "stdout"
        }
      ]
    },
    {
      "cell_type": "markdown",
      "metadata": {
        "id": "9tFDyXX6t4Nb"
      },
      "source": [
        "## Compare models"
      ]
    },
    {
      "cell_type": "code",
      "metadata": {
        "id": "OxgJ5EmCPo81",
        "outputId": "7cbac92e-0395-4d36-f9a8-7ba64f7d2a5a"
      },
      "source": [
        "plt.bar(['KNN','Random\\nForest','Adaboost','Naive Bayes','Custom\\nPerceptron'],\n",
        "        [knn_f1,rf_f1,ada_f1,naive_f1,percep_f1], \n",
        "        align='center',\n",
        "        color = 'blue')\n",
        "plt.title('Classifier Comparrison')\n",
        "plt.xlabel('Classifiers')\n",
        "plt.ylabel('F Score')\n",
        "plt.ylim(0,1)\n",
        "plt.show()"
      ],
      "execution_count": null,
      "outputs": [
        {
          "output_type": "display_data",
          "data": {
            "image/png": "[encoded data removed]",
            "text/plain": [
              "<Figure size 432x288 with 1 Axes>"
            ]
          },
          "metadata": {
            "tags": [],
            "needs_background": "light"
          }
        }
      ]
    },
    {
      "cell_type": "code",
      "metadata": {
        "id": "kbRS1gS8t4Nc",
        "outputId": "8b3888c7-fc2b-4677-d5b3-ef8f1744edd1"
      },
      "source": [
        "plt.bar(['Perceptron','Custom\\nPerceptron'],\n",
        "        [real_perc_f1,percep_f1], \n",
        "        align='center',\n",
        "        color = 'blue')\n",
        "plt.title('Classifier Comparrison')\n",
        "plt.xlabel('Classifiers')\n",
        "plt.ylabel('F Score')\n",
        "plt.ylim(0,1)\n",
        "plt.show()"
      ],
      "execution_count": null,
      "outputs": [
        {
          "output_type": "display_data",
          "data": {
            "image/png": "[encoded data removed]",
            "text/plain": [
              "<Figure size 432x288 with 1 Axes>"
            ]
          },
          "metadata": {
            "tags": [],
            "needs_background": "light"
          }
        }
      ]
    },
    {
      "cell_type": "code",
      "metadata": {
        "id": "anYHhEjHt4Nc"
      },
      "source": [
        ""
      ],
      "execution_count": null,
      "outputs": []
    }
  ]
}